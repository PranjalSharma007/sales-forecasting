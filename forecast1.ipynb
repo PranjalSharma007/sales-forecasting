{
 "cells": [
  {
   "cell_type": "code",
   "execution_count": null,
   "id": "9191eca6",
   "metadata": {},
   "outputs": [],
   "source": [
    "import numpy as np \n",
    "import pandas as pd \n",
    "import matplotlib.pyplot as plt\n",
    "import seaborn as sns\n",
    "\n",
    "from statsmodels.tsa.statespace.sarimax import SARIMAX\n",
    "from sklearn.metrics import mean_absolute_percentage_error"
   ]
  },
  {
   "cell_type": "code",
   "execution_count": null,
   "id": "12e88b23",
   "metadata": {},
   "outputs": [],
   "source": [
    "train_path = \"/Users/pranjalsharma/Downloads/sales-forecasting/archive/train.csv\"\n",
    "test_path  = \"/Users/pranjalsharma/Downloads/sales-forecasting/archive/test.csv\"\n",
    "store_path = \"/Users/pranjalsharma/Downloads/sales-forecasting/archive/store.csv\"\n"
   ]
  },
  {
   "cell_type": "code",
   "execution_count": null,
   "id": "30c7e052",
   "metadata": {},
   "outputs": [],
   "source": [
    "train = pd.read_csv(train_path)\n",
    "test  = pd.read_csv(test_path)\n",
    "store = pd.read_csv(store_path)\n",
    "print(train.shape, test.shape, store.shape)\n",
    "train.head()\n",
    "train['Date'] = pd.to_datetime(train['Date'])\n",
    "test['Date']  = pd.to_datetime(test['Date'])\n"
   ]
  },
  {
   "cell_type": "code",
   "execution_count": null,
   "id": "22ca8c75",
   "metadata": {},
   "outputs": [],
   "source": [
    "for df in [train, test]:\n",
    "    df['Year']  = df['Date'].dt.year\n",
    "    df['Month'] = df['Date'].dt.month\n",
    "    df['Day']   = df['Date'].dt.day\n",
    "    df['DayOfWeek'] = df['Date'].dt.dayofweek\n",
    "    df = train.merge(store, on='Store', how='left')\n",
    "print(df.shape)\n",
    "df.head()"
   ]
  },
  {
   "cell_type": "code",
   "execution_count": null,
   "id": "e14c6f3f",
   "metadata": {},
   "outputs": [],
   "source": [
    "df.isnull().sum().sort_values(ascending=False)\n"
   ]
  },
  {
   "cell_type": "code",
   "execution_count": null,
   "id": "4612e50f",
   "metadata": {},
   "outputs": [],
   "source": [
    "# CompetitionDistance: replace NaN with median\n",
    "df['CompetitionDistance'].fillna(df['CompetitionDistance'].median(), inplace=True)\n",
    "\n",
    "# CompetitionOpenSince* → fill with mode or backfill\n",
    "df['CompetitionOpenSinceYear'].fillna(df['Year'], inplace=True)\n",
    "df['CompetitionOpenSinceMonth'].fillna(df['Month'], inplace=True)\n",
    "\n",
    "# Promo2-related\n",
    "df['Promo2SinceYear'].fillna(0, inplace=True)\n",
    "df['Promo2SinceWeek'].fillna(0, inplace=True)\n",
    "df['PromoInterval'].fillna('None', inplace=True)\n"
   ]
  },
  {
   "cell_type": "code",
   "execution_count": null,
   "id": "1b81f407",
   "metadata": {},
   "outputs": [],
   "source": [
    "# Convert to category dtype\n",
    "cat_cols = ['StoreType', 'Assortment', 'PromoInterval']\n",
    "for col in cat_cols:\n",
    "    df[col] = df[col].astype('category')\n",
    "\n",
    "# One-hot encode\n",
    "df = pd.get_dummies(df, columns=cat_cols, drop_first=True)\n"
   ]
  },
  {
   "cell_type": "code",
   "execution_count": null,
   "id": "15dbbf79",
   "metadata": {},
   "outputs": [],
   "source": [
    "# Weekend / weekday flag\n",
    "df['IsWeekend'] = df['DayOfWeek'].isin([5,6]).astype(int)\n",
    "\n",
    "# Competition active flag\n",
    "df['CompetitionOpen'] = (\n",
    "    12 * (df['Year'] - df['CompetitionOpenSinceYear']) +\n",
    "    (df['Month'] - df['CompetitionOpenSinceMonth'])\n",
    ")\n",
    "df['CompetitionOpen'] = df['CompetitionOpen'].apply(lambda x: 1 if x > 0 else 0)\n",
    "\n",
    "# Promo ongoing flag\n",
    "df['IsPromo'] = df['Promo'].astype(int)\n"
   ]
  },
  {
   "cell_type": "code",
   "execution_count": null,
   "id": "8b861e84",
   "metadata": {},
   "outputs": [],
   "source": [
    "print(df.describe())\n",
    "print(df.info())\n",
    "\n",
    "# Total unique stores\n",
    "print(\"Number of stores:\", df['Store'].nunique())\n"
   ]
  },
  {
   "cell_type": "code",
   "execution_count": null,
   "id": "ac8051b9",
   "metadata": {},
   "outputs": [],
   "source": [
    "daily_sales = df.groupby('Date')['Sales'].sum()\n",
    "\n",
    "plt.figure(figsize=(12,6))\n",
    "daily_sales.plot()\n",
    "plt.title('Total Daily Sales Trend (All Stores)')\n",
    "plt.xlabel('Date')\n",
    "plt.ylabel('Sales')\n",
    "plt.show()\n"
   ]
  },
  {
   "cell_type": "code",
   "execution_count": null,
   "id": "ede933fd",
   "metadata": {},
   "outputs": [],
   "source": [
    "monthly_sales = df.groupby(['Year','Month'])['Sales'].sum().reset_index()\n",
    "monthly_sales['YearMonth'] = pd.to_datetime(monthly_sales[['Year','Month']].assign(DAY=1))\n",
    "\n",
    "plt.figure(figsize=(12,6))\n",
    "plt.plot(monthly_sales['YearMonth'], monthly_sales['Sales'])\n",
    "plt.title('Monthly Sales Trend')\n",
    "plt.xlabel('Month')\n",
    "plt.ylabel('Sales')\n",
    "plt.show()\n"
   ]
  },
  {
   "cell_type": "code",
   "execution_count": null,
   "id": "6ec2c3df",
   "metadata": {},
   "outputs": [],
   "source": [
    "promo_effect = df.groupby('Promo')['Sales'].mean()\n",
    "sns.barplot(x=promo_effect.index, y=promo_effect.values)\n",
    "plt.title('Average Sales with and without Promo')\n",
    "plt.show()\n"
   ]
  },
  {
   "cell_type": "code",
   "execution_count": null,
   "id": "bb407dd4",
   "metadata": {},
   "outputs": [],
   "source": [
    "avg_sales_type = train.merge(store, on='Store', how='left').groupby('StoreType')['Sales'].mean()\n",
    "sns.barplot(x=avg_sales_type.index, y=avg_sales_type.values)\n",
    "plt.title('Average Sales by Store Type')\n",
    "plt.xlabel('Store Type')\n",
    "plt.ylabel('Average Sales')\n",
    "plt.show()\n"
   ]
  }
 ],
 "metadata": {
  "language_info": {
   "name": "python"
  }
 },
 "nbformat": 4,
 "nbformat_minor": 5
}
