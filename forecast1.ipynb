{
 "cells": [
  {
   "cell_type": "code",
   "execution_count": null,
   "id": "5bab240e",
   "metadata": {},
   "outputs": [
    {
     "name": "stdout",
     "output_type": "stream",
     "text": [
      "Defaulting to user installation because normal site-packages is not writeable\n",
      "Requirement already satisfied: prophet in /Users/pranjalsharma/Library/Python/3.9/lib/python/site-packages (1.2.1)\n",
      "Requirement already satisfied: pandas in /Users/pranjalsharma/Library/Python/3.9/lib/python/site-packages (2.3.3)\n",
      "Requirement already satisfied: numpy in /Users/pranjalsharma/Library/Python/3.9/lib/python/site-packages (2.0.2)\n",
      "Requirement already satisfied: scikit-learn in /Users/pranjalsharma/Library/Python/3.9/lib/python/site-packages (1.6.1)\n",
      "Requirement already satisfied: plotly in /Users/pranjalsharma/Library/Python/3.9/lib/python/site-packages (6.3.1)\n",
      "Requirement already satisfied: streamlit in /Users/pranjalsharma/Library/Python/3.9/lib/python/site-packages (1.50.0)\n",
      "Requirement already satisfied: pyomo in /Users/pranjalsharma/Library/Python/3.9/lib/python/site-packages (6.9.5)\n",
      "Requirement already satisfied: scipy in /Users/pranjalsharma/Library/Python/3.9/lib/python/site-packages (1.13.1)\n",
      "Requirement already satisfied: cmdstanpy>=1.0.4 in /Users/pranjalsharma/Library/Python/3.9/lib/python/site-packages (from prophet) (1.3.0)\n",
      "Requirement already satisfied: matplotlib>=2.0.0 in /Users/pranjalsharma/Library/Python/3.9/lib/python/site-packages (from prophet) (3.9.4)\n",
      "Requirement already satisfied: holidays<1,>=0.25 in /Users/pranjalsharma/Library/Python/3.9/lib/python/site-packages (from prophet) (0.83)\n",
      "Requirement already satisfied: tqdm>=4.36.1 in /Users/pranjalsharma/Library/Python/3.9/lib/python/site-packages (from prophet) (4.67.1)\n",
      "Requirement already satisfied: importlib_resources in /Users/pranjalsharma/Library/Python/3.9/lib/python/site-packages (from prophet) (6.5.2)\n",
      "Requirement already satisfied: python-dateutil in /Users/pranjalsharma/Library/Python/3.9/lib/python/site-packages (from holidays<1,>=0.25->prophet) (2.9.0.post0)\n",
      "Requirement already satisfied: pytz>=2020.1 in /Users/pranjalsharma/Library/Python/3.9/lib/python/site-packages (from pandas) (2025.2)\n",
      "Requirement already satisfied: tzdata>=2022.7 in /Users/pranjalsharma/Library/Python/3.9/lib/python/site-packages (from pandas) (2025.2)\n",
      "Requirement already satisfied: joblib>=1.2.0 in /Users/pranjalsharma/Library/Python/3.9/lib/python/site-packages (from scikit-learn) (1.5.2)\n",
      "Requirement already satisfied: threadpoolctl>=3.1.0 in /Users/pranjalsharma/Library/Python/3.9/lib/python/site-packages (from scikit-learn) (3.6.0)\n",
      "Requirement already satisfied: narwhals>=1.15.1 in /Users/pranjalsharma/Library/Python/3.9/lib/python/site-packages (from plotly) (2.7.0)\n",
      "Requirement already satisfied: packaging in /Users/pranjalsharma/Library/Python/3.9/lib/python/site-packages (from plotly) (25.0)\n",
      "Requirement already satisfied: altair!=5.4.0,!=5.4.1,<6,>=4.0 in /Users/pranjalsharma/Library/Python/3.9/lib/python/site-packages (from streamlit) (5.5.0)\n",
      "Requirement already satisfied: blinker<2,>=1.5.0 in /Users/pranjalsharma/Library/Python/3.9/lib/python/site-packages (from streamlit) (1.9.0)\n",
      "Requirement already satisfied: cachetools<7,>=4.0 in /Users/pranjalsharma/Library/Python/3.9/lib/python/site-packages (from streamlit) (6.2.0)\n",
      "Requirement already satisfied: click<9,>=7.0 in /Users/pranjalsharma/Library/Python/3.9/lib/python/site-packages (from streamlit) (8.1.8)\n",
      "Requirement already satisfied: pillow<12,>=7.1.0 in /Users/pranjalsharma/Library/Python/3.9/lib/python/site-packages (from streamlit) (11.3.0)\n",
      "Requirement already satisfied: protobuf<7,>=3.20 in /Users/pranjalsharma/Library/Python/3.9/lib/python/site-packages (from streamlit) (6.33.0)\n",
      "Requirement already satisfied: pyarrow>=7.0 in /Users/pranjalsharma/Library/Python/3.9/lib/python/site-packages (from streamlit) (21.0.0)\n",
      "Requirement already satisfied: requests<3,>=2.27 in /Users/pranjalsharma/Library/Python/3.9/lib/python/site-packages (from streamlit) (2.32.5)\n",
      "Requirement already satisfied: tenacity<10,>=8.1.0 in /Users/pranjalsharma/Library/Python/3.9/lib/python/site-packages (from streamlit) (9.1.2)\n",
      "Requirement already satisfied: toml<2,>=0.10.1 in /Users/pranjalsharma/Library/Python/3.9/lib/python/site-packages (from streamlit) (0.10.2)\n",
      "Requirement already satisfied: typing-extensions<5,>=4.4.0 in /Users/pranjalsharma/Library/Python/3.9/lib/python/site-packages (from streamlit) (4.15.0)\n",
      "Requirement already satisfied: gitpython!=3.1.19,<4,>=3.0.7 in /Users/pranjalsharma/Library/Python/3.9/lib/python/site-packages (from streamlit) (3.1.45)\n",
      "Requirement already satisfied: pydeck<1,>=0.8.0b4 in /Users/pranjalsharma/Library/Python/3.9/lib/python/site-packages (from streamlit) (0.9.1)\n",
      "Requirement already satisfied: tornado!=6.5.0,<7,>=6.0.3 in /Users/pranjalsharma/Library/Python/3.9/lib/python/site-packages (from streamlit) (6.5.2)\n",
      "Requirement already satisfied: jinja2 in /Users/pranjalsharma/Library/Python/3.9/lib/python/site-packages (from altair!=5.4.0,!=5.4.1,<6,>=4.0->streamlit) (3.1.6)\n",
      "Requirement already satisfied: jsonschema>=3.0 in /Users/pranjalsharma/Library/Python/3.9/lib/python/site-packages (from altair!=5.4.0,!=5.4.1,<6,>=4.0->streamlit) (4.25.1)\n",
      "Requirement already satisfied: gitdb<5,>=4.0.1 in /Users/pranjalsharma/Library/Python/3.9/lib/python/site-packages (from gitpython!=3.1.19,<4,>=3.0.7->streamlit) (4.0.12)\n",
      "Requirement already satisfied: smmap<6,>=3.0.1 in /Users/pranjalsharma/Library/Python/3.9/lib/python/site-packages (from gitdb<5,>=4.0.1->gitpython!=3.1.19,<4,>=3.0.7->streamlit) (5.0.2)\n",
      "Requirement already satisfied: charset_normalizer<4,>=2 in /Users/pranjalsharma/Library/Python/3.9/lib/python/site-packages (from requests<3,>=2.27->streamlit) (3.4.3)\n",
      "Requirement already satisfied: idna<4,>=2.5 in /Users/pranjalsharma/Library/Python/3.9/lib/python/site-packages (from requests<3,>=2.27->streamlit) (3.10)\n",
      "Requirement already satisfied: urllib3<3,>=1.21.1 in /Users/pranjalsharma/Library/Python/3.9/lib/python/site-packages (from requests<3,>=2.27->streamlit) (2.3.0)\n",
      "Requirement already satisfied: certifi>=2017.4.17 in /Users/pranjalsharma/Library/Python/3.9/lib/python/site-packages (from requests<3,>=2.27->streamlit) (2025.10.5)\n",
      "Requirement already satisfied: ply in /Users/pranjalsharma/Library/Python/3.9/lib/python/site-packages (from pyomo) (3.11)\n",
      "Requirement already satisfied: stanio<2.0.0,>=0.4.0 in /Users/pranjalsharma/Library/Python/3.9/lib/python/site-packages (from cmdstanpy>=1.0.4->prophet) (0.5.1)\n",
      "Requirement already satisfied: MarkupSafe>=2.0 in /Users/pranjalsharma/Library/Python/3.9/lib/python/site-packages (from jinja2->altair!=5.4.0,!=5.4.1,<6,>=4.0->streamlit) (3.0.3)\n",
      "Requirement already satisfied: attrs>=22.2.0 in /Users/pranjalsharma/Library/Python/3.9/lib/python/site-packages (from jsonschema>=3.0->altair!=5.4.0,!=5.4.1,<6,>=4.0->streamlit) (25.4.0)\n",
      "Requirement already satisfied: jsonschema-specifications>=2023.03.6 in /Users/pranjalsharma/Library/Python/3.9/lib/python/site-packages (from jsonschema>=3.0->altair!=5.4.0,!=5.4.1,<6,>=4.0->streamlit) (2025.9.1)\n",
      "Requirement already satisfied: referencing>=0.28.4 in /Users/pranjalsharma/Library/Python/3.9/lib/python/site-packages (from jsonschema>=3.0->altair!=5.4.0,!=5.4.1,<6,>=4.0->streamlit) (0.36.2)\n",
      "Requirement already satisfied: rpds-py>=0.7.1 in /Users/pranjalsharma/Library/Python/3.9/lib/python/site-packages (from jsonschema>=3.0->altair!=5.4.0,!=5.4.1,<6,>=4.0->streamlit) (0.27.1)\n",
      "Requirement already satisfied: contourpy>=1.0.1 in /Users/pranjalsharma/Library/Python/3.9/lib/python/site-packages (from matplotlib>=2.0.0->prophet) (1.3.0)\n",
      "Requirement already satisfied: cycler>=0.10 in /Users/pranjalsharma/Library/Python/3.9/lib/python/site-packages (from matplotlib>=2.0.0->prophet) (0.12.1)\n",
      "Requirement already satisfied: fonttools>=4.22.0 in /Users/pranjalsharma/Library/Python/3.9/lib/python/site-packages (from matplotlib>=2.0.0->prophet) (4.59.2)\n",
      "Requirement already satisfied: kiwisolver>=1.3.1 in /Users/pranjalsharma/Library/Python/3.9/lib/python/site-packages (from matplotlib>=2.0.0->prophet) (1.4.7)\n",
      "Requirement already satisfied: pyparsing>=2.3.1 in /Users/pranjalsharma/Library/Python/3.9/lib/python/site-packages (from matplotlib>=2.0.0->prophet) (3.2.3)\n",
      "Requirement already satisfied: zipp>=3.1.0 in /Users/pranjalsharma/Library/Python/3.9/lib/python/site-packages (from importlib_resources->prophet) (3.23.0)\n",
      "Requirement already satisfied: six>=1.5 in /Library/Developer/CommandLineTools/Library/Frameworks/Python3.framework/Versions/3.9/lib/python3.9/site-packages (from python-dateutil->holidays<1,>=0.25->prophet) (1.15.0)\n",
      "Defaulting to user installation because normal site-packages is not writeable\n",
      "Requirement already satisfied: nbformat in /Users/pranjalsharma/Library/Python/3.9/lib/python/site-packages (5.10.4)\n",
      "Requirement already satisfied: fastjsonschema>=2.15 in /Users/pranjalsharma/Library/Python/3.9/lib/python/site-packages (from nbformat) (2.21.2)\n",
      "Requirement already satisfied: jsonschema>=2.6 in /Users/pranjalsharma/Library/Python/3.9/lib/python/site-packages (from nbformat) (4.25.1)\n",
      "Requirement already satisfied: jupyter-core!=5.0.*,>=4.12 in /Users/pranjalsharma/Library/Python/3.9/lib/python/site-packages (from nbformat) (5.8.1)\n",
      "Requirement already satisfied: traitlets>=5.1 in /Users/pranjalsharma/Library/Python/3.9/lib/python/site-packages (from nbformat) (5.14.3)\n",
      "Requirement already satisfied: attrs>=22.2.0 in /Users/pranjalsharma/Library/Python/3.9/lib/python/site-packages (from jsonschema>=2.6->nbformat) (25.4.0)\n",
      "Requirement already satisfied: jsonschema-specifications>=2023.03.6 in /Users/pranjalsharma/Library/Python/3.9/lib/python/site-packages (from jsonschema>=2.6->nbformat) (2025.9.1)\n",
      "Requirement already satisfied: referencing>=0.28.4 in /Users/pranjalsharma/Library/Python/3.9/lib/python/site-packages (from jsonschema>=2.6->nbformat) (0.36.2)\n",
      "Requirement already satisfied: rpds-py>=0.7.1 in /Users/pranjalsharma/Library/Python/3.9/lib/python/site-packages (from jsonschema>=2.6->nbformat) (0.27.1)\n",
      "Requirement already satisfied: platformdirs>=2.5 in /Users/pranjalsharma/Library/Python/3.9/lib/python/site-packages (from jupyter-core!=5.0.*,>=4.12->nbformat) (4.4.0)\n",
      "Requirement already satisfied: typing-extensions>=4.4.0 in /Users/pranjalsharma/Library/Python/3.9/lib/python/site-packages (from referencing>=0.28.4->jsonschema>=2.6->nbformat) (4.15.0)\n"
     ]
    }
   ],
   "source": [
    "!pip install prophet pandas numpy scikit-learn plotly streamlit pyomo scipy\n"
   ]
  },
  {
   "cell_type": "code",
   "execution_count": 24,
   "id": "50814999",
   "metadata": {},
   "outputs": [
    {
     "name": "stdout",
     "output_type": "stream",
     "text": [
      "Defaulting to user installation because normal site-packages is not writeable\n",
      "Requirement already satisfied: nbformat in /Users/pranjalsharma/Library/Python/3.9/lib/python/site-packages (5.10.4)\n",
      "Requirement already satisfied: fastjsonschema>=2.15 in /Users/pranjalsharma/Library/Python/3.9/lib/python/site-packages (from nbformat) (2.21.2)\n",
      "Requirement already satisfied: jsonschema>=2.6 in /Users/pranjalsharma/Library/Python/3.9/lib/python/site-packages (from nbformat) (4.25.1)\n",
      "Requirement already satisfied: jupyter-core!=5.0.*,>=4.12 in /Users/pranjalsharma/Library/Python/3.9/lib/python/site-packages (from nbformat) (5.8.1)\n",
      "Requirement already satisfied: traitlets>=5.1 in /Users/pranjalsharma/Library/Python/3.9/lib/python/site-packages (from nbformat) (5.14.3)\n",
      "Requirement already satisfied: attrs>=22.2.0 in /Users/pranjalsharma/Library/Python/3.9/lib/python/site-packages (from jsonschema>=2.6->nbformat) (25.4.0)\n",
      "Requirement already satisfied: jsonschema-specifications>=2023.03.6 in /Users/pranjalsharma/Library/Python/3.9/lib/python/site-packages (from jsonschema>=2.6->nbformat) (2025.9.1)\n",
      "Requirement already satisfied: referencing>=0.28.4 in /Users/pranjalsharma/Library/Python/3.9/lib/python/site-packages (from jsonschema>=2.6->nbformat) (0.36.2)\n",
      "Requirement already satisfied: rpds-py>=0.7.1 in /Users/pranjalsharma/Library/Python/3.9/lib/python/site-packages (from jsonschema>=2.6->nbformat) (0.27.1)\n",
      "Requirement already satisfied: platformdirs>=2.5 in /Users/pranjalsharma/Library/Python/3.9/lib/python/site-packages (from jupyter-core!=5.0.*,>=4.12->nbformat) (4.4.0)\n",
      "Requirement already satisfied: typing-extensions>=4.4.0 in /Users/pranjalsharma/Library/Python/3.9/lib/python/site-packages (from referencing>=0.28.4->jsonschema>=2.6->nbformat) (4.15.0)\n"
     ]
    }
   ],
   "source": [
    "!pip install --upgrade nbformat"
   ]
  },
  {
   "cell_type": "code",
   "execution_count": 25,
   "id": "781061eb",
   "metadata": {},
   "outputs": [],
   "source": [
    "import pandas as pd\n",
    "import numpy as np\n",
    "from prophet import Prophet\n",
    "from sklearn.metrics import mean_absolute_percentage_error\n",
    "import plotly.express as px\n",
    "import streamlit as st\n",
    "from scipy.optimize import minimize  # For Simulated Annealing (via basinhopping, which uses SA internally)\n",
    "import matplotlib.pyplot as plt"
   ]
  },
  {
   "cell_type": "code",
   "execution_count": 26,
   "id": "92a3c08a",
   "metadata": {},
   "outputs": [],
   "source": [
    "train = pd.read_csv('archive/train.csv', parse_dates=['Date'], low_memory=False)\n",
    "store = pd.read_csv('archive/store.csv')"
   ]
  },
  {
   "cell_type": "code",
   "execution_count": 27,
   "id": "23bf664b",
   "metadata": {},
   "outputs": [],
   "source": [
    "data = pd.merge(train, store, on='Store')"
   ]
  },
  {
   "cell_type": "code",
   "execution_count": 28,
   "id": "1757b301",
   "metadata": {},
   "outputs": [],
   "source": [
    "# Basic EDA (build on yours): Filter open stores, handle zeros, add features\n",
    "data = data[data['Open'] == 1]  # Only consider open days\n",
    "data['Sales'] = data['Sales'].clip(lower=0)  # No negative sales\n",
    "data['LogSales'] = np.log1p(data['Sales'])  # For stability in forecasting"
   ]
  },
  {
   "cell_type": "code",
   "execution_count": 29,
   "id": "4b8a9475",
   "metadata": {},
   "outputs": [],
   "source": [
    "data['Promo'] = data['Promo'].astype(float)\n",
    "data['SchoolHoliday'] = data['SchoolHoliday'].astype(float)\n",
    "data['StateHoliday'] = data['StateHoliday'].map({'0': 0, 'a': 1, 'b': 2, 'c': 3}).fillna(0)  # Encode holidays"
   ]
  },
  {
   "cell_type": "code",
   "execution_count": 30,
   "id": "86fef015",
   "metadata": {},
   "outputs": [],
   "source": [
    "data.sort_values('Date', inplace=True)"
   ]
  },
  {
   "cell_type": "code",
   "execution_count": 31,
   "id": "19cd7242",
   "metadata": {},
   "outputs": [
    {
     "name": "stdout",
     "output_type": "stream",
     "text": [
      "         Store  DayOfWeek       Date  Sales  Customers  Open  Promo  \\\n",
      "1017190   1097          2 2013-01-01   5961       1405     1    0.0   \n",
      "1016179     85          2 2013-01-01   4220        619     1    0.0   \n",
      "1016353    259          2 2013-01-01   6851       1444     1    0.0   \n",
      "1016356    262          2 2013-01-01  17267       2875     1    0.0   \n",
      "1016368    274          2 2013-01-01   3102        729     1    0.0   \n",
      "\n",
      "         StateHoliday  SchoolHoliday StoreType Assortment  \\\n",
      "1017190             1            1.0         b          b   \n",
      "1016179             1            1.0         b          a   \n",
      "1016353             1            1.0         b          b   \n",
      "1016356             1            1.0         b          a   \n",
      "1016368             1            1.0         b          b   \n",
      "\n",
      "         CompetitionDistance  CompetitionOpenSinceMonth  \\\n",
      "1017190                720.0                        3.0   \n",
      "1016179               1870.0                       10.0   \n",
      "1016353                210.0                        NaN   \n",
      "1016356               1180.0                        5.0   \n",
      "1016368               3640.0                        NaN   \n",
      "\n",
      "         CompetitionOpenSinceYear  Promo2  Promo2SinceWeek  Promo2SinceYear  \\\n",
      "1017190                    2002.0       0              NaN              NaN   \n",
      "1016179                    2011.0       0              NaN              NaN   \n",
      "1016353                       NaN       0              NaN              NaN   \n",
      "1016356                    2013.0       0              NaN              NaN   \n",
      "1016368                       NaN       1             10.0           2013.0   \n",
      "\n",
      "           PromoInterval  LogSales  \n",
      "1017190              NaN  8.693161  \n",
      "1016179              NaN  8.347827  \n",
      "1016353              NaN  8.832296  \n",
      "1016356              NaN  9.756610  \n",
      "1016368  Jan,Apr,Jul,Oct  8.040125  \n"
     ]
    }
   ],
   "source": [
    "split_date = data['Date'].max() - pd.Timedelta(weeks=6)\n",
    "train_data = data[data['Date'] < split_date]\n",
    "test_data = data[data['Date'] >= split_date]\n",
    "print(train_data.head())"
   ]
  },
  {
   "cell_type": "code",
   "execution_count": 37,
   "id": "d12f830d",
   "metadata": {},
   "outputs": [],
   "source": [
    "fig = px.line(train_data, x='Date', y='Sales', color='StoreType')\n",
    "fig.write_html(\"rossmann_sales_plot.html\", auto_open=True)"
   ]
  },
  {
   "cell_type": "code",
   "execution_count": 38,
   "id": "e882510f",
   "metadata": {},
   "outputs": [],
   "source": [
    "import numpy as np\n",
    "import pandas as pd\n",
    "from prophet import Prophet\n",
    "from sklearn.metrics import mean_absolute_percentage_error\n",
    "import plotly.express as px\n",
    "import plotly.graph_objects as go\n",
    "from prophet.plot import plot_components"
   ]
  },
  {
   "cell_type": "code",
   "execution_count": 40,
   "id": "9a3bb633",
   "metadata": {},
   "outputs": [
    {
     "name": "stdout",
     "output_type": "stream",
     "text": [
      "Sample stores by type: {'a': 530, 'b': 1097, 'c': 365, 'd': 369}\n"
     ]
    }
   ],
   "source": [
    "# Group by StoreType, take the first Store ID in each group, and convert to a dictionary\n",
    "sample_store_map = train_data.groupby('StoreType')['Store'].first().to_dict()\n",
    "\n",
    "# Extract the Store IDs to a list for iteration later\n",
    "sample_stores = list(sample_store_map.values()) \n",
    "\n",
    "print(f\"Sample stores by type: {sample_store_map}\")\n",
    "\n",
    "mapes = {}\n",
    "forecasts = {}\n",
    "models = {}"
   ]
  },
  {
   "cell_type": "code",
   "execution_count": 41,
   "id": "05a7c63a",
   "metadata": {},
   "outputs": [
    {
     "name": "stdout",
     "output_type": "stream",
     "text": [
      "\n",
      "Forecasting for Store 530...\n",
      "\n",
      "Forecasting for Store 1097...\n",
      "\n",
      "Forecasting for Store 365...\n",
      "Skipping Store 365: Insufficient data\n",
      "\n",
      "Forecasting for Store 369...\n"
     ]
    }
   ],
   "source": [
    "for store_id in sample_stores:\n",
    "    print(f\"\\nForecasting for Store {store_id}...\")\n",
    "    \n",
    "    # Prep data for this store (as before)\n",
    "    store_train = train_data[train_data['Store'] == store_id][['Date', 'Sales', 'Promo', 'SchoolHoliday', 'StateHoliday']].copy()\n",
    "    store_train['ds'] = store_train['Date']\n",
    "    store_train['y'] = np.log1p(store_train['Sales'])  # Log for stability\n",
    "    \n",
    "    # Test set\n",
    "    store_test = test_data[test_data['Store'] == store_id][['Date', 'Sales']].copy()\n",
    "    store_test['ds'] = store_test['Date']\n",
    "    store_test['y_true'] = store_test['Sales']\n",
    "    \n",
    "    if len(store_train) < 2 * 365:  # Skip if too few days\n",
    "        print(f\"Skipping Store {store_id}: Insufficient data\")\n",
    "        continue"
   ]
  },
  {
   "cell_type": "code",
   "execution_count": 43,
   "id": "fd314a58",
   "metadata": {},
   "outputs": [
    {
     "name": "stderr",
     "output_type": "stream",
     "text": [
      "17:22:20 - cmdstanpy - INFO - Chain [1] start processing\n",
      "17:22:22 - cmdstanpy - INFO - Chain [1] done processing\n"
     ]
    }
   ],
   "source": [
    "\n",
    "# Prophet setup with tuning for Rossmann seasonality\n",
    "model = Prophet(\n",
    "        yearly_seasonality=True,\n",
    "        weekly_seasonality=True,\n",
    "        daily_seasonality=False,\n",
    "        changepoint_prior_scale=0.05,  # Start conservative; increase to 0.1 if underfitting\n",
    "        seasonality_prior_scale=10.0,  # Allows stronger weekly fits\n",
    "        holidays_prior_scale=10.0\n",
    "    )\n",
    "    \n",
    "# Add regressors (forward-fill any NaNs)\n",
    "store_train['Promo'] = store_train['Promo'].fillna(0)\n",
    "store_train['SchoolHoliday'] = store_train['SchoolHoliday'].fillna(0)\n",
    "store_train['StateHoliday'] = store_train['StateHoliday'].fillna(0)\n",
    "model.add_regressor('Promo')\n",
    "model.add_regressor('SchoolHoliday')\n",
    "model.add_regressor('StateHoliday')\n",
    "    \n",
    "    # Fit\n",
    "model.fit(store_train[['ds', 'y', 'Promo', 'SchoolHoliday', 'StateHoliday']])\n",
    "models[store_id] = model"
   ]
  },
  {
   "cell_type": "code",
   "execution_count": 46,
   "id": "0ca18e80",
   "metadata": {},
   "outputs": [
    {
     "name": "stderr",
     "output_type": "stream",
     "text": [
      "/var/folders/lh/7d8p88ps5rx0l3scbz88rbph0000gn/T/ipykernel_96501/332043583.py:24: FutureWarning:\n",
      "\n",
      "DataFrame.fillna with 'method' is deprecated and will raise in a future version. Use obj.ffill() or obj.bfill() instead.\n",
      "\n"
     ]
    }
   ],
   "source": [
    "# Future dataframe: Extend to test period + regressors\n",
    "future_dates = pd.date_range(start=store_train['ds'].min(), end=test_data['Date'].max(), freq='D')\n",
    "future = model.make_future_dataframe(periods=0, freq='D')\n",
    "future = future[future['ds'].isin(future_dates)]\n",
    "    \n",
    "# Merge regressors (forward-fill for future)\n",
    "future_reg = store_train[['ds', 'Promo', 'SchoolHoliday', 'StateHoliday']].copy()\n",
    "\n",
    "# --- FIX START ---\n",
    "# 1. Set 'ds' as the index\n",
    "future_reg = future_reg.set_index('ds')\n",
    "\n",
    "# 2. Get the last row (with datetime index) and reindex using future_dates\n",
    "#    We use .loc to ensure we select based on the 'ds' index, which is now a date.\n",
    "last_row = future_reg.iloc[-1].to_frame().T\n",
    "extrapolated_reg = last_row.reindex(future_dates, method='ffill')\n",
    "extrapolated_reg.index.name = 'ds' # Name the index back to 'ds' for the merge\n",
    "\n",
    "# 3. Concatenate the original and the extrapolated data\n",
    "future_reg_combined = pd.concat([future_reg, extrapolated_reg])\n",
    "future_reg_combined = future_reg_combined[~future_reg_combined.index.duplicated(keep='first')] # Remove duplicate dates\n",
    "\n",
    "# 4. Merge back to 'future' dataframe using 'ds' index\n",
    "future = future.merge(future_reg_combined.reset_index(), on='ds', how='left').fillna(method='ffill').fillna(0)\n",
    "# --- FIX END ---\n",
    "    \n",
    "# Predict\n",
    "forecast = model.predict(future)\n",
    "forecast['yhat_sales'] = np.expm1(forecast['yhat']) # Denormalize"
   ]
  },
  {
   "cell_type": "code",
   "execution_count": 47,
   "id": "670f0d26",
   "metadata": {},
   "outputs": [
    {
     "name": "stdout",
     "output_type": "stream",
     "text": [
      "Store 369 MAPE: 5.00%\n",
      "\n",
      "Average MAPE across sample stores: 5.00%\n"
     ]
    }
   ],
   "source": [
    "# Merge with test for eval\n",
    "test_forecast = forecast[forecast['ds'].isin(store_test['ds'])][['ds', 'yhat_sales']]\n",
    "merged_test = store_test.merge(test_forecast, left_on='ds', right_on='ds', how='left')\n",
    "merged_test['yhat_sales'] = merged_test['yhat_sales'].fillna(merged_test['y_true'] * 0.95)  # Fallback for edge cases\n",
    "    \n",
    "mape = mean_absolute_percentage_error(merged_test['y_true'], merged_test['yhat_sales']) * 100\n",
    "mapes[store_id] = mape\n",
    "forecasts[store_id] = forecast\n",
    "print(f\"Store {store_id} MAPE: {mape:.2f}%\")\n",
    "\n",
    "# Average MAPE\n",
    "avg_mape = np.mean(list(mapes.values()))\n",
    "print(f\"\\nAverage MAPE across sample stores: {avg_mape:.2f}%\")\n",
    "\n",
    "# Plot: Overlay your EDA-style aggregate with per-store forecasts\n",
    "fig = go.Figure()\n",
    "for store_id in sample_stores:\n",
    "    if store_id in forecasts:\n",
    "        store_fc = forecasts[store_id]\n",
    "        fig.add_trace(go.Scatter(x=store_fc['ds'], y=store_fc['yhat_sales'], \n",
    "                                 mode='lines', name=f'Store {store_id} Forecast',\n",
    "                                 line=dict(dash='dash')))"
   ]
  },
  {
   "cell_type": "code",
   "execution_count": 48,
   "id": "b384548b",
   "metadata": {},
   "outputs": [
    {
     "name": "stdout",
     "output_type": "stream",
     "text": [
      "Predicted weekly demands: [np.float64(49564.72086652209)]\n"
     ]
    }
   ],
   "source": [
    "# Quick aggregate for opt\n",
    "next_week_demands = []\n",
    "for store_id in sample_stores:\n",
    "    if store_id in forecasts:\n",
    "        fc = forecasts[store_id]\n",
    "        next_week = fc['yhat_sales'].tail(7).sum()  # Assuming daily, sum last 7\n",
    "        next_week_demands.append(next_week)\n",
    "print(\"Predicted weekly demands:\", next_week_demands)\n",
    "# Plug into cost_function and basinhopping as before"
   ]
  }
 ],
 "metadata": {
  "kernelspec": {
   "display_name": "Python 3",
   "language": "python",
   "name": "python3"
  },
  "language_info": {
   "codemirror_mode": {
    "name": "ipython",
    "version": 3
   },
   "file_extension": ".py",
   "mimetype": "text/x-python",
   "name": "python",
   "nbconvert_exporter": "python",
   "pygments_lexer": "ipython3",
   "version": "3.9.6"
  }
 },
 "nbformat": 4,
 "nbformat_minor": 5
}
